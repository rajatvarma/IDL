{
 "cells": [
  {
   "cell_type": "code",
   "execution_count": 101,
   "metadata": {},
   "outputs": [],
   "source": [
    "import numpy as np\n",
    "import matplotlib.pyplot as plt\n",
    "import tensorflow as tf\n",
    "import tensorflow.keras as keras"
   ]
  },
  {
   "cell_type": "code",
   "execution_count": 2,
   "metadata": {},
   "outputs": [],
   "source": [
    "from keras.layers import Dense, Flatten, Conv2D, MaxPooling2D, BatchNormalization, Input\n",
    "from keras.models import Model\n",
    "from keras.utils import to_categorical\n",
    "from sklearn.preprocessing import OneHotEncoder, LabelEncoder"
   ]
  },
  {
   "cell_type": "code",
   "execution_count": 130,
   "metadata": {},
   "outputs": [],
   "source": [
    "# Setting these as global variables so that they can be shuffled to ensure an even distribution- many times I wasn't getting all 24/720 labels in the validation set\n",
    "\n",
    "images = np.load('75/images.npy')\n",
    "images = images.astype('float32')\n",
    "\n",
    "# Function that shuffles the images and labels into training, validation, and test sets\n",
    "def initialize():\n",
    "    global imgs, train_imgs, val_imgs, test_imgs, train_labels, val_labels, test_labels, distributed\n",
    "    indices = np.random.permutation(images.shape[0])\n",
    "    imgs = images[indices]\n",
    "    labels = np.load('75/labels.npy')\n",
    "    labels = labels.astype('int32')\n",
    "    labels = labels[indices]\n",
    "\n",
    "    split_1 = int(18000*0.8)\n",
    "    split_2 = int(18000*0.9)\n",
    "\n",
    "    train_imgs = imgs[:split_1]\n",
    "    train_labels = labels[:split_1]\n",
    "    \n",
    "    val_imgs = imgs[split_1:split_2]\n",
    "    val_labels = labels[split_1:split_2]\n",
    "    \n",
    "    test_imgs = imgs[split_2:]\n",
    "    test_labels = labels[split_2:]\n",
    "\n",
    "    # Normalizing the images\n",
    "    train_imgs = train_imgs / 255.0\n",
    "    test_imgs = test_imgs / 255.0\n",
    "    val_imgs = val_imgs / 255.0\n",
    "\n",
    "\n",
    "    train_imgs = train_imgs.reshape((train_imgs.shape[0], 75, 75, 1))\n",
    "    val_imgs = val_imgs.reshape((val_imgs.shape[0], 75, 75, 1))\n",
    "    test_imgs = test_imgs.reshape((test_imgs.shape[0], 75, 75, 1))\n",
    "\n",
    "    print(train_imgs.shape, val_imgs.shape, test_imgs.shape)"
   ]
  },
  {
   "cell_type": "markdown",
   "metadata": {},
   "source": [
    "## Classification Model"
   ]
  },
  {
   "cell_type": "code",
   "execution_count": 131,
   "metadata": {},
   "outputs": [
    {
     "name": "stdout",
     "output_type": "stream",
     "text": [
      "(14400, 75, 75, 1) (1800, 75, 75, 1) (1800, 75, 75, 1)\n"
     ]
    }
   ],
   "source": [
    "# Convert the time into 24 separate labels\n",
    "def conv_time_24(time):\n",
    "    ntime = 0\n",
    "    if time[1] > 30:\n",
    "        ntime = (time[0] + 0.5)\n",
    "    else:\n",
    "        ntime = time[0]\n",
    "    return ntime\n",
    "\n",
    "# Convert the time into 720 separate labels \n",
    "def conv_time_360(time):\n",
    "    if time[1] % 2 == 0:\n",
    "        return time[0]*60+time[1]\n",
    "    else :\n",
    "        return time[0]*60+time[1]-1\n",
    "\n",
    "conv_time = conv_time_24\n",
    "while True:\n",
    "    initialize()\n",
    "    train_labels_converted = np.array([conv_time(time) for time in train_labels])\n",
    "    test_labels_converted = np.array([conv_time(time) for time in test_labels])\n",
    "    val_labels_converted = np.array([conv_time(time) for time in val_labels])\n",
    "\n",
    "    encoder = LabelEncoder()\n",
    "    test_labels_encoded = encoder.fit_transform(test_labels_converted.reshape(-1))\n",
    "    train_labels_encoded = encoder.fit_transform(train_labels_converted.reshape(-1))\n",
    "    val_labels_encoded = encoder.fit_transform(val_labels_converted.reshape(-1))\n",
    "\n",
    "    OHencoder = OneHotEncoder(sparse_output=False)\n",
    "    train_labels_oh = OHencoder.fit_transform(train_labels_encoded.reshape(-1, 1))\n",
    "    val_labels_oh = OHencoder.fit_transform(val_labels_encoded.reshape(-1, 1))\n",
    "    \n",
    "    # Check if all labels are present in the validation set, if not, reshuffle\n",
    "    try:\n",
    "        val_labels_oh = val_labels_oh.reshape((val_labels_oh.shape[0], 24))\n",
    "        break\n",
    "    except:\n",
    "        pass"
   ]
  },
  {
   "cell_type": "code",
   "execution_count": 80,
   "metadata": {},
   "outputs": [],
   "source": [
    "import tensorflow.keras.backend as K\n",
    "\n",
    "#Common sense error function- checks the smaller of the differences by converting to military time\n",
    "def common_sense_error(true, pred):\n",
    "    diff1 = K.abs(pred-true)\n",
    "    diff2 = K.abs(pred+12-true)\n",
    "    return K.minimum(diff1, diff2)"
   ]
  },
  {
   "cell_type": "code",
   "execution_count": 126,
   "metadata": {},
   "outputs": [
    {
     "name": "stderr",
     "output_type": "stream",
     "text": [
      "/vol/home/s4201388/Documents/Leiden/IDL/.venv/lib/python3.10/site-packages/keras/src/layers/convolutional/base_conv.py:107: UserWarning: Do not pass an `input_shape`/`input_dim` argument to a layer. When using Sequential models, prefer using an `Input(shape)` object as the first layer in the model instead.\n",
      "  super().__init__(activity_regularizer=activity_regularizer, **kwargs)\n"
     ]
    }
   ],
   "source": [
    "input_shape = (75, 75, 1)\n",
    "\n",
    "model = keras.models.Sequential()\n",
    "model.add(keras.layers.Conv2D(kernel_size=(5,5), strides = (2,2), activation=\"relu\", filters=32))\n",
    "model.add(keras.layers.Conv2D(activation=\"relu\", filters=32, kernel_size=(3,3), input_shape=input_shape))\n",
    "model.add(keras.layers.MaxPooling2D(pool_size=2))\n",
    "model.add(keras.layers.Conv2D(kernel_size=(3,3), activation=\"relu\", filters=32))\n",
    "model.add(keras.layers.Conv2D(kernel_size=(3,3), activation=\"relu\", filters=32))\n",
    "model.add(keras.layers.MaxPooling2D(pool_size=2))\n",
    "model.add(keras.layers.Conv2D(kernel_size=(3,3), activation=\"relu\", filters=64))\n",
    "model.add(keras.layers.Conv2D(kernel_size=(3,3), activation=\"relu\", filters=64))\n",
    "\n",
    "model.add(keras.layers.Flatten())\n",
    "\n",
    "model.add(keras.layers.Dense(units=512, activation=\"relu\"))\n",
    "model.add(keras.layers.Dropout(0.5))\n",
    "model.add(keras.layers.Dense(units=256, activation=\"relu\"))\n",
    "model.add(keras.layers.Dropout(0.5))\n",
    "model.add(keras.layers.Dense(units=128, activation=\"relu\"))\n",
    "model.add(keras.layers.Dropout(0.5))\n",
    "model.add(keras.layers.Dense(units=64, activation=\"relu\"))\n",
    "model.add(keras.layers.Dropout(0.5))\n",
    "model.add(keras.layers.Dense(units=32, activation=\"relu\"))\n",
    "# Output layer - one neuron for each class label\n",
    "model.add(keras.layers.Dense(units=24, activation=\"softmax\"))\n",
    "\n",
    "optimizer = keras.optimizers.Adam(learning_rate=0.001)\n",
    "model.compile(optimizer=optimizer, loss='categorical_crossentropy', metrics=['accuracy'])"
   ]
  },
  {
   "cell_type": "code",
   "execution_count": 127,
   "metadata": {},
   "outputs": [
    {
     "name": "stdout",
     "output_type": "stream",
     "text": [
      "Epoch 1/10\n",
      "\u001b[1m50/50\u001b[0m \u001b[32m━━━━━━━━━━━━━━━━━━━━\u001b[0m\u001b[37m\u001b[0m \u001b[1m3s\u001b[0m 44ms/step - accuracy: 0.0399 - loss: 3.1785 - val_accuracy: 0.0400 - val_loss: 3.1785\n",
      "Epoch 2/10\n",
      "\u001b[1m50/50\u001b[0m \u001b[32m━━━━━━━━━━━━━━━━━━━━\u001b[0m\u001b[37m\u001b[0m \u001b[1m2s\u001b[0m 43ms/step - accuracy: 0.0429 - loss: 3.1778 - val_accuracy: 0.0347 - val_loss: 3.1789\n",
      "Epoch 3/10\n",
      "\u001b[1m50/50\u001b[0m \u001b[32m━━━━━━━━━━━━━━━━━━━━\u001b[0m\u001b[37m\u001b[0m \u001b[1m2s\u001b[0m 41ms/step - accuracy: 0.0425 - loss: 3.1776 - val_accuracy: 0.0347 - val_loss: 3.1792\n",
      "Epoch 4/10\n",
      "\u001b[1m50/50\u001b[0m \u001b[32m━━━━━━━━━━━━━━━━━━━━\u001b[0m\u001b[37m\u001b[0m \u001b[1m2s\u001b[0m 40ms/step - accuracy: 0.0447 - loss: 3.1779 - val_accuracy: 0.0347 - val_loss: 3.1794\n",
      "Epoch 5/10\n",
      "\u001b[1m50/50\u001b[0m \u001b[32m━━━━━━━━━━━━━━━━━━━━\u001b[0m\u001b[37m\u001b[0m \u001b[1m2s\u001b[0m 39ms/step - accuracy: 0.0506 - loss: 3.1765 - val_accuracy: 0.0347 - val_loss: 3.1795\n",
      "Epoch 6/10\n",
      "\u001b[1m50/50\u001b[0m \u001b[32m━━━━━━━━━━━━━━━━━━━━\u001b[0m\u001b[37m\u001b[0m \u001b[1m2s\u001b[0m 41ms/step - accuracy: 0.0459 - loss: 3.1771 - val_accuracy: 0.0347 - val_loss: 3.1796\n",
      "Epoch 7/10\n",
      "\u001b[1m50/50\u001b[0m \u001b[32m━━━━━━━━━━━━━━━━━━━━\u001b[0m\u001b[37m\u001b[0m \u001b[1m2s\u001b[0m 41ms/step - accuracy: 0.0434 - loss: 3.1776 - val_accuracy: 0.0347 - val_loss: 3.1796\n",
      "Epoch 8/10\n",
      "\u001b[1m50/50\u001b[0m \u001b[32m━━━━━━━━━━━━━━━━━━━━\u001b[0m\u001b[37m\u001b[0m \u001b[1m2s\u001b[0m 39ms/step - accuracy: 0.0453 - loss: 3.1781 - val_accuracy: 0.0347 - val_loss: 3.1796\n",
      "Epoch 9/10\n",
      "\u001b[1m50/50\u001b[0m \u001b[32m━━━━━━━━━━━━━━━━━━━━\u001b[0m\u001b[37m\u001b[0m \u001b[1m2s\u001b[0m 39ms/step - accuracy: 0.0462 - loss: 3.1772 - val_accuracy: 0.0347 - val_loss: 3.1798\n",
      "Epoch 10/10\n",
      "\u001b[1m50/50\u001b[0m \u001b[32m━━━━━━━━━━━━━━━━━━━━\u001b[0m\u001b[37m\u001b[0m \u001b[1m2s\u001b[0m 39ms/step - accuracy: 0.0461 - loss: 3.1770 - val_accuracy: 0.0347 - val_loss: 3.1797\n"
     ]
    }
   ],
   "source": [
    "early_stop = keras.callbacks.EarlyStopping(monitor='val_loss', patience=10)\n",
    "\n",
    "classification_history = model.fit(train_imgs, train_labels_oh, epochs=10, batch_size=256, validation_data=(val_imgs, val_labels_oh), callbacks=[early_stop])"
   ]
  },
  {
   "cell_type": "code",
   "execution_count": 124,
   "metadata": {},
   "outputs": [
    {
     "data": {
      "text/plain": [
       "<matplotlib.legend.Legend at 0x744caa4188e0>"
      ]
     },
     "execution_count": 124,
     "metadata": {},
     "output_type": "execute_result"
    },
    {
     "data": {
      "image/png": "[encoded data removed]",
      "text/plain": [
       "<Figure size 640x480 with 1 Axes>"
      ]
     },
     "metadata": {},
     "output_type": "display_data"
    }
   ],
   "source": [
    "# Graph the model training\n",
    "plt.plot(classification_history.history['loss'])\n",
    "plt.plot(classification_history.history['val_loss'])\n",
    "plt.title('Model Loss')\n",
    "plt.ylabel('Loss')\n",
    "plt.xlabel('Epoch')\n",
    "plt.legend(['Train', 'Validation'], loc='upper left')"
   ]
  },
  {
   "cell_type": "code",
   "execution_count": 125,
   "metadata": {},
   "outputs": [
    {
     "name": "stdout",
     "output_type": "stream",
     "text": [
      "\u001b[1m57/57\u001b[0m \u001b[32m━━━━━━━━━━━━━━━━━━━━\u001b[0m\u001b[37m\u001b[0m \u001b[1m0s\u001b[0m 4ms/step\n",
      "4.277777777777778 %\n"
     ]
    }
   ],
   "source": [
    "# Measuring accuracy- picking the highest confidence label and comparing it to the true label\n",
    "preds = model.predict(test_imgs)\n",
    "preds = np.argmax(preds, axis=1)\n",
    "\n",
    "results = encoder.inverse_transform(preds)\n",
    "accuracy = np.sum(results == test_labels_converted) / len(test_labels_converted)\n",
    "print(accuracy*100, '%')"
   ]
  },
  {
   "cell_type": "markdown",
   "metadata": {},
   "source": [
    "## Regression Model"
   ]
  },
  {
   "cell_type": "code",
   "execution_count": 98,
   "metadata": {},
   "outputs": [],
   "source": [
    "import tensorflow.keras.backend as K\n",
    "\n",
    "#returning the common sense difference between two times\n",
    "def common_sense_error(true, pred):\n",
    "    true = K.cast(true, 'float32')\n",
    "    diff_1 = K.abs(true - pred)\n",
    "    diff_2 = K.abs(true - (pred + 12))\n",
    "\n",
    "    return K.minimum(diff_1, diff_2)"
   ]
  },
  {
   "cell_type": "code",
   "execution_count": 104,
   "metadata": {},
   "outputs": [
    {
     "name": "stderr",
     "output_type": "stream",
     "text": [
      "/vol/home/s4201388/Documents/Leiden/IDL/.venv/lib/python3.10/site-packages/keras/src/layers/convolutional/base_conv.py:107: UserWarning: Do not pass an `input_shape`/`input_dim` argument to a layer. When using Sequential models, prefer using an `Input(shape)` object as the first layer in the model instead.\n",
      "  super().__init__(activity_regularizer=activity_regularizer, **kwargs)\n"
     ]
    },
    {
     "name": "stdout",
     "output_type": "stream",
     "text": [
      "Epoch 1/10\n",
      "\u001b[1m25/25\u001b[0m \u001b[32m━━━━━━━━━━━━━━━━━━━━\u001b[0m\u001b[37m\u001b[0m \u001b[1m6s\u001b[0m 198ms/step - common_sense_error: 3.0244 - loss: 21.4115 - val_common_sense_error: 2.9458 - val_loss: 11.6759\n",
      "Epoch 2/10\n",
      "\u001b[1m25/25\u001b[0m \u001b[32m━━━━━━━━━━━━━━━━━━━━\u001b[0m\u001b[37m\u001b[0m \u001b[1m5s\u001b[0m 190ms/step - common_sense_error: 3.0045 - loss: 12.2574 - val_common_sense_error: 2.9513 - val_loss: 11.6764\n",
      "Epoch 3/10\n",
      "\u001b[1m25/25\u001b[0m \u001b[32m━━━━━━━━━━━━━━━━━━━━\u001b[0m\u001b[37m\u001b[0m \u001b[1m5s\u001b[0m 208ms/step - common_sense_error: 3.0260 - loss: 12.3975 - val_common_sense_error: 2.9384 - val_loss: 11.7714\n",
      "Epoch 4/10\n",
      "\u001b[1m25/25\u001b[0m \u001b[32m━━━━━━━━━━━━━━━━━━━━\u001b[0m\u001b[37m\u001b[0m \u001b[1m5s\u001b[0m 208ms/step - common_sense_error: 3.0095 - loss: 12.1958 - val_common_sense_error: 2.9462 - val_loss: 11.6280\n",
      "Epoch 5/10\n",
      "\u001b[1m25/25\u001b[0m \u001b[32m━━━━━━━━━━━━━━━━━━━━\u001b[0m\u001b[37m\u001b[0m \u001b[1m5s\u001b[0m 209ms/step - common_sense_error: 3.0027 - loss: 12.1453 - val_common_sense_error: 2.9468 - val_loss: 11.6083\n",
      "Epoch 6/10\n",
      "\u001b[1m25/25\u001b[0m \u001b[32m━━━━━━━━━━━━━━━━━━━━\u001b[0m\u001b[37m\u001b[0m \u001b[1m6s\u001b[0m 226ms/step - common_sense_error: 3.0448 - loss: 12.3783 - val_common_sense_error: 2.9508 - val_loss: 11.6012\n",
      "Epoch 7/10\n",
      "\u001b[1m25/25\u001b[0m \u001b[32m━━━━━━━━━━━━━━━━━━━━\u001b[0m\u001b[37m\u001b[0m \u001b[1m6s\u001b[0m 224ms/step - common_sense_error: 3.0318 - loss: 12.3046 - val_common_sense_error: 2.9661 - val_loss: 11.6918\n",
      "Epoch 8/10\n",
      "\u001b[1m25/25\u001b[0m \u001b[32m━━━━━━━━━━━━━━━━━━━━\u001b[0m\u001b[37m\u001b[0m \u001b[1m6s\u001b[0m 228ms/step - common_sense_error: 2.9997 - loss: 12.0815 - val_common_sense_error: 2.9671 - val_loss: 11.6355\n",
      "Epoch 9/10\n",
      "\u001b[1m25/25\u001b[0m \u001b[32m━━━━━━━━━━━━━━━━━━━━\u001b[0m\u001b[37m\u001b[0m \u001b[1m6s\u001b[0m 226ms/step - common_sense_error: 3.0079 - loss: 11.9990 - val_common_sense_error: 2.9721 - val_loss: 11.4789\n",
      "Epoch 10/10\n",
      "\u001b[1m25/25\u001b[0m \u001b[32m━━━━━━━━━━━━━━━━━━━━\u001b[0m\u001b[37m\u001b[0m \u001b[1m6s\u001b[0m 225ms/step - common_sense_error: 3.0242 - loss: 11.8634 - val_common_sense_error: 2.9785 - val_loss: 10.8335\n"
     ]
    },
    {
     "data": {
      "text/plain": [
       "<keras.src.callbacks.history.History at 0x744c9ebef3d0>"
      ]
     },
     "execution_count": 104,
     "metadata": {},
     "output_type": "execute_result"
    }
   ],
   "source": [
    "initialize()\n",
    "\n",
    "# Convert the time into a continuous value\n",
    "def conv_time(time):\n",
    "    return round(time[0] + time[1]/60, 3)\n",
    "\n",
    "train_labels_reg = np.array([conv_time(time) for time in train_labels])\n",
    "test_labels_reg = np.array([conv_time(time) for time in test_labels])\n",
    "val_labels_reg = np.array([conv_time(time) for time in val_labels])\n",
    "\n",
    "model = keras.models.Sequential()\n",
    "model.add(keras.layers.Conv2D(activation='relu', filters=32, kernel_size=(3,3), input_shape=(75, 75, 1)))\n",
    "model.add(keras.layers.MaxPooling2D(pool_size=2))\n",
    "model.add(keras.layers.Conv2D(filters=32, kernel_size=(3,3), activation='relu'))\n",
    "model.add(keras.layers.Conv2D(filters=32 ,kernel_size=(3,3), activation='relu'))\n",
    "model.add(keras.layers.MaxPooling2D(pool_size=2))\n",
    "model.add(keras.layers.Conv2D(filters=64, kernel_size=(3,3), activation='relu'))\n",
    "model.add(keras.layers.Conv2D(filters=64, kernel_size=(3,3), activation='relu'))\n",
    "\n",
    "\n",
    "model.add(keras.layers.Flatten())\n",
    "model.add(keras.layers.Dense(units=256, activation='relu'))\n",
    "model.add(keras.layers.Dense(units=256, activation='relu'))\n",
    "model.add(keras.layers.Dense(units=256, activation='relu'))\n",
    "model.add(keras.layers.Dense(units=256, activation='relu'))\n",
    "model.add(keras.layers.Dropout(0.1))\n",
    "model.add(keras.layers.Dense(units=128, activation='relu'))\n",
    "model.add(keras.layers.Dense(units=64, activation='relu'))\n",
    "model.add(keras.layers.Dense(units=1, activation=\"softplus\"))\n",
    "model.compile(loss=\"mse\", optimizer=\"adam\", metrics=[common_sense_error])\n",
    "\n",
    "early_stop = keras.callbacks.EarlyStopping(monitor = \"val_loss\", patience = 10)\n",
    "\n",
    "model.fit(train_imgs, train_labels_reg, epochs=10, batch_size = 512, validation_data = (val_imgs, val_labels_reg), callbacks = [early_stop])"
   ]
  },
  {
   "cell_type": "code",
   "execution_count": 105,
   "metadata": {},
   "outputs": [
    {
     "name": "stdout",
     "output_type": "stream",
     "text": [
      "\u001b[1m57/57\u001b[0m \u001b[32m━━━━━━━━━━━━━━━━━━━━\u001b[0m\u001b[37m\u001b[0m \u001b[1m1s\u001b[0m 10ms/step\n",
      "2.480956790123457 %\n"
     ]
    }
   ],
   "source": [
    "# Measuring accuracy within 1 minute of the true time\n",
    "reg_preds = model.predict(test_imgs)\n",
    "accuracy = np.mean(abs(reg_preds - test_labels_reg) < 0.16)\n",
    "print(accuracy*100, '%')"
   ]
  },
  {
   "cell_type": "markdown",
   "metadata": {},
   "source": [
    "## Two-Headed Model"
   ]
  },
  {
   "cell_type": "code",
   "execution_count": 38,
   "metadata": {},
   "outputs": [],
   "source": [
    "initialize()\n",
    "\n",
    "train_hours = train_labels[:, 0]\n",
    "train_minutes = train_labels[:, 1]\n",
    "\n",
    "val_hours = val_labels[:, 0]\n",
    "val_minutes = val_labels[:, 1]\n",
    "\n",
    "test_hours = test_labels[:, 0]\n",
    "test_minutes = test_labels[:, 1]\n",
    "\n",
    "train_minutes = train_minutes / 60\n",
    "test_minutes = test_minutes / 60\n",
    "val_minutes = val_minutes / 60"
   ]
  },
  {
   "cell_type": "code",
   "execution_count": 17,
   "metadata": {},
   "outputs": [],
   "source": [
    "import tensorflow.keras.backend as K\n",
    "\n",
    "def common_sense_hour(true, pred):\n",
    "    true = K.cast(true, 'float32')\n",
    "    diff1 = K.abs(pred-true)\n",
    "    diff2 = K.abs(pred+12-true)\n",
    "    return K.minimum(diff1, diff2)\n",
    "\n",
    "def common_sense_minute(true, pred):\n",
    "    true = K.cast(true, 'float32')\n",
    "    diff1 = K.abs(pred-true)\n",
    "    diff2 = K.abs(pred+60-true)\n",
    "    return K.minimum(diff1, diff2)"
   ]
  },
  {
   "cell_type": "code",
   "execution_count": 40,
   "metadata": {},
   "outputs": [
    {
     "name": "stdout",
     "output_type": "stream",
     "text": [
      "Epoch 1/30\n",
      "\u001b[1m25/25\u001b[0m \u001b[32m━━━━━━━━━━━━━━━━━━━━\u001b[0m\u001b[37m\u001b[0m \u001b[1m3s\u001b[0m 64ms/step - hour_accuracy: 0.0877 - hour_loss: 2.4857 - loss: 2.5919 - minute_loss: 0.1062 - minute_mae: 0.2738 - val_hour_accuracy: 0.0781 - val_hour_loss: 2.4853 - val_loss: 2.5691 - val_minute_loss: 0.0831 - val_minute_mae: 0.2513\n",
      "Epoch 2/30\n",
      "\u001b[1m25/25\u001b[0m \u001b[32m━━━━━━━━━━━━━━━━━━━━\u001b[0m\u001b[37m\u001b[0m \u001b[1m2s\u001b[0m 59ms/step - hour_accuracy: 0.0821 - hour_loss: 2.4849 - loss: 2.5689 - minute_loss: 0.0840 - minute_mae: 0.2512 - val_hour_accuracy: 0.0800 - val_hour_loss: 2.4854 - val_loss: 2.5690 - val_minute_loss: 0.0829 - val_minute_mae: 0.2513\n",
      "Epoch 3/30\n",
      "\u001b[1m25/25\u001b[0m \u001b[32m━━━━━━━━━━━━━━━━━━━━\u001b[0m\u001b[37m\u001b[0m \u001b[1m2s\u001b[0m 61ms/step - hour_accuracy: 0.0903 - hour_loss: 2.4848 - loss: 2.5692 - minute_loss: 0.0844 - minute_mae: 0.2511 - val_hour_accuracy: 0.0794 - val_hour_loss: 2.4859 - val_loss: 2.5700 - val_minute_loss: 0.0844 - val_minute_mae: 0.2519\n",
      "Epoch 4/30\n",
      "\u001b[1m25/25\u001b[0m \u001b[32m━━━━━━━━━━━━━━━━━━━━\u001b[0m\u001b[37m\u001b[0m \u001b[1m1s\u001b[0m 58ms/step - hour_accuracy: 0.0829 - hour_loss: 2.4849 - loss: 2.5684 - minute_loss: 0.0835 - minute_mae: 0.2496 - val_hour_accuracy: 0.0781 - val_hour_loss: 2.4858 - val_loss: 2.5693 - val_minute_loss: 0.0832 - val_minute_mae: 0.2512\n",
      "Epoch 5/30\n",
      "\u001b[1m25/25\u001b[0m \u001b[32m━━━━━━━━━━━━━━━━━━━━\u001b[0m\u001b[37m\u001b[0m \u001b[1m1s\u001b[0m 55ms/step - hour_accuracy: 0.0805 - hour_loss: 2.4849 - loss: 2.5686 - minute_loss: 0.0837 - minute_mae: 0.2505 - val_hour_accuracy: 0.0800 - val_hour_loss: 2.4858 - val_loss: 2.5692 - val_minute_loss: 0.0828 - val_minute_mae: 0.2512\n",
      "Epoch 6/30\n",
      "\u001b[1m25/25\u001b[0m \u001b[32m━━━━━━━━━━━━━━━━━━━━\u001b[0m\u001b[37m\u001b[0m \u001b[1m2s\u001b[0m 61ms/step - hour_accuracy: 0.0821 - hour_loss: 2.4848 - loss: 2.5688 - minute_loss: 0.0840 - minute_mae: 0.2511 - val_hour_accuracy: 0.0781 - val_hour_loss: 2.4859 - val_loss: 2.5695 - val_minute_loss: 0.0834 - val_minute_mae: 0.2513\n",
      "Epoch 7/30\n",
      "\u001b[1m25/25\u001b[0m \u001b[32m━━━━━━━━━━━━━━━━━━━━\u001b[0m\u001b[37m\u001b[0m \u001b[1m2s\u001b[0m 60ms/step - hour_accuracy: 0.0813 - hour_loss: 2.4848 - loss: 2.5687 - minute_loss: 0.0839 - minute_mae: 0.2503 - val_hour_accuracy: 0.0800 - val_hour_loss: 2.4861 - val_loss: 2.5693 - val_minute_loss: 0.0828 - val_minute_mae: 0.2512\n",
      "Epoch 8/30\n",
      "\u001b[1m25/25\u001b[0m \u001b[32m━━━━━━━━━━━━━━━━━━━━\u001b[0m\u001b[37m\u001b[0m \u001b[1m2s\u001b[0m 60ms/step - hour_accuracy: 0.0859 - hour_loss: 2.4847 - loss: 2.5685 - minute_loss: 0.0838 - minute_mae: 0.2506 - val_hour_accuracy: 0.0781 - val_hour_loss: 2.4862 - val_loss: 2.5698 - val_minute_loss: 0.0836 - val_minute_mae: 0.2514\n",
      "Epoch 9/30\n",
      "\u001b[1m25/25\u001b[0m \u001b[32m━━━━━━━━━━━━━━━━━━━━\u001b[0m\u001b[37m\u001b[0m \u001b[1m2s\u001b[0m 62ms/step - hour_accuracy: 0.0888 - hour_loss: 2.4848 - loss: 2.5687 - minute_loss: 0.0840 - minute_mae: 0.2507 - val_hour_accuracy: 0.0781 - val_hour_loss: 2.4862 - val_loss: 2.5694 - val_minute_loss: 0.0830 - val_minute_mae: 0.2511\n",
      "Epoch 10/30\n",
      "\u001b[1m25/25\u001b[0m \u001b[32m━━━━━━━━━━━━━━━━━━━━\u001b[0m\u001b[37m\u001b[0m \u001b[1m1s\u001b[0m 57ms/step - hour_accuracy: 0.0845 - hour_loss: 2.4849 - loss: 2.5690 - minute_loss: 0.0840 - minute_mae: 0.2514 - val_hour_accuracy: 0.0794 - val_hour_loss: 2.4862 - val_loss: 2.5695 - val_minute_loss: 0.0827 - val_minute_mae: 0.2514\n",
      "Epoch 11/30\n",
      "\u001b[1m25/25\u001b[0m \u001b[32m━━━━━━━━━━━━━━━━━━━━\u001b[0m\u001b[37m\u001b[0m \u001b[1m1s\u001b[0m 58ms/step - hour_accuracy: 0.0826 - hour_loss: 2.4849 - loss: 2.5680 - minute_loss: 0.0831 - minute_mae: 0.2493 - val_hour_accuracy: 0.0781 - val_hour_loss: 2.4863 - val_loss: 2.5692 - val_minute_loss: 0.0825 - val_minute_mae: 0.2508\n",
      "Epoch 12/30\n",
      "\u001b[1m25/25\u001b[0m \u001b[32m━━━━━━━━━━━━━━━━━━━━\u001b[0m\u001b[37m\u001b[0m \u001b[1m1s\u001b[0m 58ms/step - hour_accuracy: 0.0829 - hour_loss: 2.4849 - loss: 2.5681 - minute_loss: 0.0833 - minute_mae: 0.2494 - val_hour_accuracy: 0.0781 - val_hour_loss: 2.4863 - val_loss: 2.5693 - val_minute_loss: 0.0821 - val_minute_mae: 0.2504\n"
     ]
    },
    {
     "data": {
      "text/plain": [
       "<keras.src.callbacks.history.History at 0x7f57783833a0>"
      ]
     },
     "execution_count": 40,
     "metadata": {},
     "output_type": "execute_result"
    }
   ],
   "source": [
    "inp = keras.layers.Input(shape = (75,75,1))\n",
    "model = keras.layers.Convolution2D(32,kernel_size = (5,5), strides= (2,2), activation = \"relu\")(inp)\n",
    "model = keras.layers.MaxPooling2D(pool_size =2)(model)\n",
    "model = keras.layers.Convolution2D(32,kernel_size = (3,3),activation = \"relu\")(model)\n",
    "model = keras.layers.Convolution2D(32,kernel_size = (3,3),activation = \"relu\")(model)\n",
    "model = keras.layers.MaxPooling2D(pool_size =2)(model)\n",
    "model = keras.layers.Convolution2D(64,kernel_size = (3,3),activation = \"relu\")(model)\n",
    "model = keras.layers.Convolution2D(64,kernel_size = (1,1),activation = \"relu\")(model)\n",
    "model = keras.layers.Flatten()(model)\n",
    "\n",
    "d = keras.layers.Dense(256,activation = \"relu\")(model)\n",
    "d = keras.layers.Dense(256,activation = \"relu\")(d)\n",
    "d = keras.layers.Dropout(0.1)(d)\n",
    "d = keras.layers.Dense(256,activation = \"relu\")(d)\n",
    "\n",
    "# The hour head predicts confidence amonst 12 label classes- one for each hour \n",
    "hour = keras.layers.Dense(256,activation = \"relu\")(d)\n",
    "hour = keras.layers.Dense(128,activation = \"relu\")(hour)\n",
    "hour = keras.layers.Dense(64,activation = \"relu\")(hour)\n",
    "hour = keras.layers.Dense(32,activation = \"relu\")(hour)\n",
    "hour = keras.layers.Dense(16,activation = \"relu\")(hour)\n",
    "hour = keras.layers.Dense(12,activation= \"softmax\", name= \"hour\")(hour)\n",
    "\n",
    "# The minute head runs a regression on a continuous value\n",
    "minute = keras.layers.Dense(256,activation = \"relu\")(d)\n",
    "minute = keras.layers.Dense(256,activation = \"relu\")(minute)\n",
    "minute = keras.layers.Dense(256,activation = \"relu\")(minute)\n",
    "minute = keras.layers.Dense(128,activation = \"relu\")(minute)\n",
    "minute = keras.layers.Dense(64,activation = \"relu\")(minute)\n",
    "minute = keras.layers.Dense(32,activation = \"relu\")(minute)\n",
    "minute = keras.layers.Dense(16,activation = \"relu\")(minute)\n",
    "minute = keras.layers.Dense(1, activation = \"softplus\", name = \"minute\")(minute)\n",
    "\n",
    "model = tf.keras.models.Model(inputs=inp, outputs=[hour, minute])\n",
    "optim = tf.keras.optimizers.Adam()\n",
    "model.compile(loss=['sparse_categorical_crossentropy', 'mse'], optimizer=optim, metrics=['accuracy',\"mae\"])\n",
    "\n",
    "early_stop = keras.callbacks.EarlyStopping(monitor = \"val_loss\", patience = 10)\n",
    "\n",
    "model.fit(train_imgs, [train_hours, train_minutes], epochs=30, batch_size = 512, validation_data = (val_imgs, [val_hours, val_minutes]), callbacks = [early_stop])"
   ]
  },
  {
   "cell_type": "code",
   "execution_count": 22,
   "metadata": {},
   "outputs": [
    {
     "name": "stdout",
     "output_type": "stream",
     "text": [
      "\u001b[1m57/57\u001b[0m \u001b[32m━━━━━━━━━━━━━━━━━━━━\u001b[0m\u001b[37m\u001b[0m \u001b[1m0s\u001b[0m 6ms/step\n",
      "7.222222222222221 %\n"
     ]
    }
   ],
   "source": [
    "predictions = model.predict(test_imgs)\n",
    "hour_p = np.argmax(predictions[0], axis = 1)\n",
    "minutes_p = predictions[1]\n",
    "\n",
    "accuracy = np.mean(np.abs(hour_p - test_hours) < 1) * np.mean(np.abs(minutes_p - test_minutes) < 5)\n",
    "print(accuracy*100, '%')"
   ]
  }
 ],
 "metadata": {
  "kernelspec": {
   "display_name": ".venv",
   "language": "python",
   "name": "python3"
  },
  "language_info": {
   "codemirror_mode": {
    "name": "ipython",
    "version": 3
   },
   "file_extension": ".py",
   "mimetype": "text/x-python",
   "name": "python",
   "nbconvert_exporter": "python",
   "pygments_lexer": "ipython3",
   "version": "3.10.12"
  }
 },
 "nbformat": 4,
 "nbformat_minor": 2
}
